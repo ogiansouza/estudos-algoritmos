{
 "cells": [
  {
   "cell_type": "markdown",
   "id": "98fa14c2b31c13fc",
   "metadata": {},
   "source": [
    "# Pequisa Binária"
   ]
  },
  {
   "cell_type": "code",
   "id": "127715c5448f7db8",
   "metadata": {
    "ExecuteTime": {
     "end_time": "2025-07-27T17:06:24.142371Z",
     "start_time": "2025-07-27T17:06:24.136481Z"
    }
   },
   "source": [
    "def pesquisa_binaria(items, item):\n",
    "    minimo = 0\n",
    "    maximo = len(items) - 1\n",
    "\n",
    "    while minimo <= maximo:\n",
    "        meio = (minimo + maximo) // 2\n",
    "        tentativa = items[meio]\n",
    "        if tentativa == item:\n",
    "            return meio\n",
    "        if tentativa > item:\n",
    "            maximo = meio - 1\n",
    "        else:\n",
    "            minimo = meio + 1\n",
    "    return None\n",
    "\n",
    "lista = [1, 3, 5, 7, 9]\n",
    "print(pesquisa_binaria(lista, 3))\n",
    "print(pesquisa_binaria(lista, -1))"
   ],
   "outputs": [
    {
     "name": "stdout",
     "output_type": "stream",
     "text": [
      "1\n",
      "None\n"
     ]
    }
   ],
   "execution_count": 5
  }
 ],
 "metadata": {
  "kernelspec": {
   "display_name": "Python 3 (ipykernel)",
   "language": "python",
   "name": "python3"
  },
  "language_info": {
   "codemirror_mode": {
    "name": "ipython",
    "version": 3
   },
   "file_extension": ".py",
   "mimetype": "text/x-python",
   "name": "python",
   "nbconvert_exporter": "python",
   "pygments_lexer": "ipython3",
   "version": "3.9.6"
  }
 },
 "nbformat": 4,
 "nbformat_minor": 5
}
