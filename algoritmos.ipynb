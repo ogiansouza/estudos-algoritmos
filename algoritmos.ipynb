{
 "cells": [
  {
   "cell_type": "markdown",
   "id": "98fa14c2b31c13fc",
   "metadata": {},
   "source": [
    "# Pequisa Binária"
   ]
  },
  {
   "cell_type": "code",
   "id": "127715c5448f7db8",
   "metadata": {
    "ExecuteTime": {
     "end_time": "2025-07-27T17:06:24.142371Z",
     "start_time": "2025-07-27T17:06:24.136481Z"
    }
   },
   "source": [
    "def pesquisa_binaria(items, item):\n",
    "    minimo = 0\n",
    "    maximo = len(items) - 1\n",
    "\n",
    "    while minimo <= maximo:\n",
    "        meio = (minimo + maximo) // 2\n",
    "        tentativa = items[meio]\n",
    "        if tentativa == item:\n",
    "            return meio\n",
    "        if tentativa > item:\n",
    "            maximo = meio - 1\n",
    "        else:\n",
    "            minimo = meio + 1\n",
    "    return None\n",
    "\n",
    "lista = [1, 3, 5, 7, 9]\n",
    "print(pesquisa_binaria(lista, 3))\n",
    "print(pesquisa_binaria(lista, -1))"
   ],
   "outputs": [
    {
     "name": "stdout",
     "output_type": "stream",
     "text": [
      "1\n",
      "None\n"
     ]
    }
   ],
   "execution_count": 5
  },
  {
   "metadata": {},
   "cell_type": "markdown",
   "source": [
    "# Ordenação por seleção\n",
    "\n",
    "Itera por uma lista, buscando o menor valor"
   ],
   "id": "1040ce283986a9d7"
  },
  {
   "metadata": {
    "ExecuteTime": {
     "end_time": "2025-07-27T23:35:03.187980Z",
     "start_time": "2025-07-27T23:35:03.182535Z"
    }
   },
   "cell_type": "code",
   "source": [
    "def buscaMenor(items):\n",
    "    menor = items[0]\n",
    "    menor_index = 0\n",
    "    for i in range(1, len(items)):\n",
    "        if items[i] < menor:\n",
    "            menor = items[i]\n",
    "            menor_index = i\n",
    "    return menor_index\n",
    "\n",
    "def ordenacaoPorSelecao(items):\n",
    "    array_ordenado = []\n",
    "    for i in range(len(items)):\n",
    "        menor = buscaMenor(items)\n",
    "        array_ordenado.append(items.pop(menor))\n",
    "    return array_ordenado\n",
    "\n",
    "lista = [1, 3, 5, 7, 9]\n",
    "nova_lista = ordenacaoPorSelecao(lista)\n",
    "print(nova_lista)"
   ],
   "id": "c7ce53da9f722354",
   "outputs": [
    {
     "name": "stdout",
     "output_type": "stream",
     "text": [
      "[1, 3, 5, 7, 9]\n"
     ]
    }
   ],
   "execution_count": 5
  },
  {
   "metadata": {},
   "cell_type": "markdown",
   "source": [
    "# Recursão\n",
    "Quando uma função precisa chamar a si mesma\n",
    "## Caso base\n",
    "O que faz a função parar\n",
    "## Caso recursivo\n",
    "Quando a função ainda precisa se invocar"
   ],
   "id": "5300421bd628394f"
  },
  {
   "metadata": {
    "ExecuteTime": {
     "end_time": "2025-07-28T19:31:45.679817Z",
     "start_time": "2025-07-28T19:31:45.673748Z"
    }
   },
   "cell_type": "code",
   "source": [
    "¡def somar_items(items, indexAtual):\n",
    "    if indexAtual >= len(items):\n",
    "        return 0\n",
    "    return items[indexAtual] + somar_items(items, indexAtual + 1)\n",
    "\n",
    "lista = [1, 3, 5, 7, 9]\n",
    "print(somar_items(lista, 0))"
   ],
   "id": "ca8b2d063782a79b",
   "outputs": [
    {
     "name": "stdout",
     "output_type": "stream",
     "text": [
      "25\n"
     ]
    }
   ],
   "execution_count": 1
  }
 ],
 "metadata": {
  "kernelspec": {
   "display_name": "Python 3 (ipykernel)",
   "language": "python",
   "name": "python3"
  },
  "language_info": {
   "codemirror_mode": {
    "name": "ipython",
    "version": 3
   },
   "file_extension": ".py",
   "mimetype": "text/x-python",
   "name": "python",
   "nbconvert_exporter": "python",
   "pygments_lexer": "ipython3",
   "version": "3.9.6"
  }
 },
 "nbformat": 4,
 "nbformat_minor": 5
}
